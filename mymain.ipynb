{
 "cells": [
  {
   "cell_type": "code",
   "outputs": [
    {
     "name": "stdout",
     "output_type": "stream",
     "text": [
      "npz_file_path : my_dataset/lorenz96/results_lorenz_T_1000_seed_618.npz\n",
      "npz_file_path : my_dataset/lorenz96/results_lorenz_T_1000_seed_169.npz\n",
      "npz_file_path : my_dataset/lorenz96/results_lorenz_T_1000_seed_594.npz\n",
      "npz_file_path : my_dataset/lorenz96/results_lorenz_T_1000_seed_584.npz\n",
      "npz_file_path : my_dataset/lorenz96/results_lorenz_T_1000_seed_381.npz\n",
      "npz_file_path : my_dataset/lorenz96/results_lorenz_T_200_seed_169.npz\n",
      "npz_file_path : my_dataset/lorenz96/results_lorenz_T_200_seed_584.npz\n",
      "npz_file_path : my_dataset/lorenz96/results_lorenz_T_1000_seed_981.npz\n",
      "npz_file_path : my_dataset/lorenz96/results_lorenz_T_1000_seed_671.npz\n",
      "npz_file_path : my_dataset/lorenz96/results_lorenz_T_200_seed_381.npz\n",
      "npz_file_path : my_dataset/lorenz96/results_lorenz_T_200_seed_594.npz\n",
      "npz_file_path : my_dataset/lorenz96/results_lorenz_T_200_seed_618.npz\n",
      "npz_file_path : my_dataset/lorenz96/results_lorenz_T_200_seed_671.npz\n",
      "npz_file_path : my_dataset/lorenz96/results_lorenz_T_200_seed_981.npz\n",
      "npz_file_path : my_dataset/lorenz96/results_lorenz_T_500_seed_169.npz\n",
      "npz_file_path : my_dataset/lorenz96/results_lorenz_T_500_seed_381.npz\n",
      "npz_file_path : my_dataset/lorenz96/results_lorenz_T_500_seed_584.npz\n",
      "npz_file_path : my_dataset/lorenz96/results_lorenz_T_500_seed_594.npz\n",
      "npz_file_path : my_dataset/lorenz96/results_lorenz_T_500_seed_618.npz\n",
      "npz_file_path : my_dataset/lorenz96/results_lorenz_T_500_seed_671.npz\n",
      "npz_file_path : my_dataset/lorenz96/results_lorenz_T_500_seed_981.npz\n"
     ]
    }
   ],
   "source": [
    "import os\n",
    "\n",
    "dataset_dir = \"my_dataset/lorenz96\"  # 存储lorenz数据的文件夹\n",
    "npz_files = [f for f in os.listdir(dataset_dir) if f.endswith('.npz')]\n",
    "for npz_file in npz_files:\n",
    "    npz_file_path = dataset_dir +\"/\"+ npz_file\n",
    "    print(f\"npz_file_path : {npz_file_path}\")"
   ],
   "metadata": {
    "collapsed": false,
    "ExecuteTime": {
     "end_time": "2024-11-06T10:13:15.157384Z",
     "start_time": "2024-11-06T10:13:15.144635Z"
    }
   },
   "id": "1d0517605dca6829",
   "execution_count": 22
  },
  {
   "cell_type": "markdown",
   "source": [],
   "metadata": {
    "collapsed": false
   },
   "id": "6705da820f54124c"
  },
  {
   "cell_type": "code",
   "outputs": [
    {
     "name": "stdout",
     "output_type": "stream",
     "text": [
      "Processing file: results_lorenz_T_1000_seed_618.npz\n",
      "Computational Resource: cpu\n",
      "node = 0\n",
      "1041\n",
      "Error processing results_lorenz_T_1000_seed_618.npz: Command '['python', 'main.py', '--dataset', 'lorenz', '--dsid', '1', '--model', 'sru', '--sruname', '10', '--T', '250', '--F', '10', '--nepochs', '2000', '--mu1', '0.021544', '--mu2', '0.031623', '--mu3', '0', '--lr', '0.001', '--joblog', 'output/logs/results_lorenz_T_1000_seed_618.npz_output.npz', '--inputfile', 'my_dataset/lorenz96/results_lorenz_T_1000_seed_618.npz']' returned non-zero exit status 1.\n",
      "Processing file: results_lorenz_T_1000_seed_169.npz\n"
     ]
    },
    {
     "name": "stderr",
     "output_type": "stream",
     "text": [
      "Traceback (most recent call last):\n",
      "  File \"main.py\", line 288, in <module>\n",
      "    trainVerboseLvl)\n",
      "  File \"/root/autodl-tmp/SRU_for_GCI/models/sru.py\", line 189, in trainSRU\n",
      "    model.forward(trainingData[:,tt])\n",
      "IndexError: index 54 is out of bounds for dimension 1 with size 5\n"
     ]
    },
    {
     "name": "stdout",
     "output_type": "stream",
     "text": [
      "Computational Resource: cpu\n",
      "node = 0\n",
      "1041\n",
      "Error processing results_lorenz_T_1000_seed_169.npz: Command '['python', 'main.py', '--dataset', 'lorenz', '--dsid', '1', '--model', 'sru', '--sruname', '10', '--T', '250', '--F', '10', '--nepochs', '2000', '--mu1', '0.021544', '--mu2', '0.031623', '--mu3', '0', '--lr', '0.001', '--joblog', 'output/logs/results_lorenz_T_1000_seed_169.npz_output.npz', '--inputfile', 'my_dataset/lorenz96/results_lorenz_T_1000_seed_169.npz']' returned non-zero exit status 1.\n",
      "Processing file: results_lorenz_T_1000_seed_594.npz\n"
     ]
    },
    {
     "name": "stderr",
     "output_type": "stream",
     "text": [
      "Traceback (most recent call last):\n",
      "  File \"main.py\", line 288, in <module>\n",
      "    trainVerboseLvl)\n",
      "  File \"/root/autodl-tmp/SRU_for_GCI/models/sru.py\", line 189, in trainSRU\n",
      "    model.forward(trainingData[:,tt])\n",
      "IndexError: index 54 is out of bounds for dimension 1 with size 5\n"
     ]
    },
    {
     "name": "stdout",
     "output_type": "stream",
     "text": [
      "Computational Resource: cpu\n",
      "node = 0\n",
      "1041\n",
      "Error processing results_lorenz_T_1000_seed_594.npz: Command '['python', 'main.py', '--dataset', 'lorenz', '--dsid', '1', '--model', 'sru', '--sruname', '10', '--T', '250', '--F', '10', '--nepochs', '2000', '--mu1', '0.021544', '--mu2', '0.031623', '--mu3', '0', '--lr', '0.001', '--joblog', 'output/logs/results_lorenz_T_1000_seed_594.npz_output.npz', '--inputfile', 'my_dataset/lorenz96/results_lorenz_T_1000_seed_594.npz']' returned non-zero exit status 1.\n",
      "Processing file: results_lorenz_T_1000_seed_584.npz\n"
     ]
    },
    {
     "name": "stderr",
     "output_type": "stream",
     "text": [
      "Traceback (most recent call last):\n",
      "  File \"main.py\", line 288, in <module>\n",
      "    trainVerboseLvl)\n",
      "  File \"/root/autodl-tmp/SRU_for_GCI/models/sru.py\", line 189, in trainSRU\n",
      "    model.forward(trainingData[:,tt])\n",
      "IndexError: index 54 is out of bounds for dimension 1 with size 5\n"
     ]
    },
    {
     "name": "stdout",
     "output_type": "stream",
     "text": [
      "Computational Resource: cpu\n",
      "node = 0\n",
      "1041\n",
      "Error processing results_lorenz_T_1000_seed_584.npz: Command '['python', 'main.py', '--dataset', 'lorenz', '--dsid', '1', '--model', 'sru', '--sruname', '10', '--T', '250', '--F', '10', '--nepochs', '2000', '--mu1', '0.021544', '--mu2', '0.031623', '--mu3', '0', '--lr', '0.001', '--joblog', 'output/logs/results_lorenz_T_1000_seed_584.npz_output.npz', '--inputfile', 'my_dataset/lorenz96/results_lorenz_T_1000_seed_584.npz']' returned non-zero exit status 1.\n",
      "Processing file: results_lorenz_T_1000_seed_381.npz\n"
     ]
    },
    {
     "name": "stderr",
     "output_type": "stream",
     "text": [
      "Traceback (most recent call last):\n",
      "  File \"main.py\", line 288, in <module>\n",
      "    trainVerboseLvl)\n",
      "  File \"/root/autodl-tmp/SRU_for_GCI/models/sru.py\", line 189, in trainSRU\n",
      "    model.forward(trainingData[:,tt])\n",
      "IndexError: index 54 is out of bounds for dimension 1 with size 5\n"
     ]
    },
    {
     "name": "stdout",
     "output_type": "stream",
     "text": [
      "Computational Resource: cpu\n",
      "node = 0\n",
      "1041\n",
      "Error processing results_lorenz_T_1000_seed_381.npz: Command '['python', 'main.py', '--dataset', 'lorenz', '--dsid', '1', '--model', 'sru', '--sruname', '10', '--T', '250', '--F', '10', '--nepochs', '2000', '--mu1', '0.021544', '--mu2', '0.031623', '--mu3', '0', '--lr', '0.001', '--joblog', 'output/logs/results_lorenz_T_1000_seed_381.npz_output.npz', '--inputfile', 'my_dataset/lorenz96/results_lorenz_T_1000_seed_381.npz']' returned non-zero exit status 1.\n",
      "Processing file: results_lorenz_T_200_seed_169.npz\n"
     ]
    },
    {
     "name": "stderr",
     "output_type": "stream",
     "text": [
      "Traceback (most recent call last):\n",
      "  File \"main.py\", line 288, in <module>\n",
      "    trainVerboseLvl)\n",
      "  File \"/root/autodl-tmp/SRU_for_GCI/models/sru.py\", line 189, in trainSRU\n",
      "    model.forward(trainingData[:,tt])\n",
      "IndexError: index 54 is out of bounds for dimension 1 with size 5\n"
     ]
    },
    {
     "name": "stdout",
     "output_type": "stream",
     "text": [
      "Computational Resource: cpu\n",
      "node = 0\n",
      "1041\n",
      "Error processing results_lorenz_T_200_seed_169.npz: Command '['python', 'main.py', '--dataset', 'lorenz', '--dsid', '1', '--model', 'sru', '--sruname', '10', '--T', '250', '--F', '10', '--nepochs', '2000', '--mu1', '0.021544', '--mu2', '0.031623', '--mu3', '0', '--lr', '0.001', '--joblog', 'output/logs/results_lorenz_T_200_seed_169.npz_output.npz', '--inputfile', 'my_dataset/lorenz96/results_lorenz_T_200_seed_169.npz']' returned non-zero exit status 1.\n",
      "Processing file: results_lorenz_T_200_seed_584.npz\n"
     ]
    },
    {
     "name": "stderr",
     "output_type": "stream",
     "text": [
      "Traceback (most recent call last):\n",
      "  File \"main.py\", line 288, in <module>\n",
      "    trainVerboseLvl)\n",
      "  File \"/root/autodl-tmp/SRU_for_GCI/models/sru.py\", line 189, in trainSRU\n",
      "    model.forward(trainingData[:,tt])\n",
      "IndexError: index 54 is out of bounds for dimension 1 with size 5\n"
     ]
    },
    {
     "name": "stdout",
     "output_type": "stream",
     "text": [
      "Computational Resource: cpu\n",
      "node = 0\n",
      "1041\n",
      "Error processing results_lorenz_T_200_seed_584.npz: Command '['python', 'main.py', '--dataset', 'lorenz', '--dsid', '1', '--model', 'sru', '--sruname', '10', '--T', '250', '--F', '10', '--nepochs', '2000', '--mu1', '0.021544', '--mu2', '0.031623', '--mu3', '0', '--lr', '0.001', '--joblog', 'output/logs/results_lorenz_T_200_seed_584.npz_output.npz', '--inputfile', 'my_dataset/lorenz96/results_lorenz_T_200_seed_584.npz']' returned non-zero exit status 1.\n",
      "Processing file: results_lorenz_T_1000_seed_981.npz\n"
     ]
    },
    {
     "name": "stderr",
     "output_type": "stream",
     "text": [
      "Traceback (most recent call last):\n",
      "  File \"main.py\", line 288, in <module>\n",
      "    trainVerboseLvl)\n",
      "  File \"/root/autodl-tmp/SRU_for_GCI/models/sru.py\", line 189, in trainSRU\n",
      "    model.forward(trainingData[:,tt])\n",
      "IndexError: index 54 is out of bounds for dimension 1 with size 5\n"
     ]
    },
    {
     "name": "stdout",
     "output_type": "stream",
     "text": [
      "Computational Resource: cpu\n",
      "node = 0\n",
      "1041\n",
      "Error processing results_lorenz_T_1000_seed_981.npz: Command '['python', 'main.py', '--dataset', 'lorenz', '--dsid', '1', '--model', 'sru', '--sruname', '10', '--T', '250', '--F', '10', '--nepochs', '2000', '--mu1', '0.021544', '--mu2', '0.031623', '--mu3', '0', '--lr', '0.001', '--joblog', 'output/logs/results_lorenz_T_1000_seed_981.npz_output.npz', '--inputfile', 'my_dataset/lorenz96/results_lorenz_T_1000_seed_981.npz']' returned non-zero exit status 1.\n",
      "Processing file: results_lorenz_T_1000_seed_671.npz\n"
     ]
    },
    {
     "name": "stderr",
     "output_type": "stream",
     "text": [
      "Traceback (most recent call last):\n",
      "  File \"main.py\", line 288, in <module>\n",
      "    trainVerboseLvl)\n",
      "  File \"/root/autodl-tmp/SRU_for_GCI/models/sru.py\", line 189, in trainSRU\n",
      "    model.forward(trainingData[:,tt])\n",
      "IndexError: index 54 is out of bounds for dimension 1 with size 5\n"
     ]
    },
    {
     "name": "stdout",
     "output_type": "stream",
     "text": [
      "Computational Resource: cpu\n",
      "node = 0\n",
      "1041\n",
      "Error processing results_lorenz_T_1000_seed_671.npz: Command '['python', 'main.py', '--dataset', 'lorenz', '--dsid', '1', '--model', 'sru', '--sruname', '10', '--T', '250', '--F', '10', '--nepochs', '2000', '--mu1', '0.021544', '--mu2', '0.031623', '--mu3', '0', '--lr', '0.001', '--joblog', 'output/logs/results_lorenz_T_1000_seed_671.npz_output.npz', '--inputfile', 'my_dataset/lorenz96/results_lorenz_T_1000_seed_671.npz']' returned non-zero exit status 1.\n",
      "Processing file: results_lorenz_T_200_seed_381.npz\n"
     ]
    },
    {
     "name": "stderr",
     "output_type": "stream",
     "text": [
      "Traceback (most recent call last):\n",
      "  File \"main.py\", line 288, in <module>\n",
      "    trainVerboseLvl)\n",
      "  File \"/root/autodl-tmp/SRU_for_GCI/models/sru.py\", line 189, in trainSRU\n",
      "    model.forward(trainingData[:,tt])\n",
      "IndexError: index 54 is out of bounds for dimension 1 with size 5\n"
     ]
    },
    {
     "name": "stdout",
     "output_type": "stream",
     "text": [
      "Computational Resource: cpu\n",
      "node = 0\n",
      "1041\n",
      "Error processing results_lorenz_T_200_seed_381.npz: Command '['python', 'main.py', '--dataset', 'lorenz', '--dsid', '1', '--model', 'sru', '--sruname', '10', '--T', '250', '--F', '10', '--nepochs', '2000', '--mu1', '0.021544', '--mu2', '0.031623', '--mu3', '0', '--lr', '0.001', '--joblog', 'output/logs/results_lorenz_T_200_seed_381.npz_output.npz', '--inputfile', 'my_dataset/lorenz96/results_lorenz_T_200_seed_381.npz']' returned non-zero exit status 1.\n",
      "Processing file: results_lorenz_T_200_seed_594.npz\n"
     ]
    },
    {
     "name": "stderr",
     "output_type": "stream",
     "text": [
      "Traceback (most recent call last):\n",
      "  File \"main.py\", line 288, in <module>\n",
      "    trainVerboseLvl)\n",
      "  File \"/root/autodl-tmp/SRU_for_GCI/models/sru.py\", line 189, in trainSRU\n",
      "    model.forward(trainingData[:,tt])\n",
      "IndexError: index 54 is out of bounds for dimension 1 with size 5\n"
     ]
    },
    {
     "name": "stdout",
     "output_type": "stream",
     "text": [
      "Computational Resource: cpu\n",
      "node = 0\n",
      "1041\n",
      "Error processing results_lorenz_T_200_seed_594.npz: Command '['python', 'main.py', '--dataset', 'lorenz', '--dsid', '1', '--model', 'sru', '--sruname', '10', '--T', '250', '--F', '10', '--nepochs', '2000', '--mu1', '0.021544', '--mu2', '0.031623', '--mu3', '0', '--lr', '0.001', '--joblog', 'output/logs/results_lorenz_T_200_seed_594.npz_output.npz', '--inputfile', 'my_dataset/lorenz96/results_lorenz_T_200_seed_594.npz']' returned non-zero exit status 1.\n",
      "Processing file: results_lorenz_T_200_seed_618.npz\n"
     ]
    },
    {
     "name": "stderr",
     "output_type": "stream",
     "text": [
      "Traceback (most recent call last):\n",
      "  File \"main.py\", line 288, in <module>\n",
      "    trainVerboseLvl)\n",
      "  File \"/root/autodl-tmp/SRU_for_GCI/models/sru.py\", line 189, in trainSRU\n",
      "    model.forward(trainingData[:,tt])\n",
      "IndexError: index 54 is out of bounds for dimension 1 with size 5\n"
     ]
    },
    {
     "name": "stdout",
     "output_type": "stream",
     "text": [
      "Computational Resource: cpu\n",
      "node = 0\n",
      "1041\n",
      "Error processing results_lorenz_T_200_seed_618.npz: Command '['python', 'main.py', '--dataset', 'lorenz', '--dsid', '1', '--model', 'sru', '--sruname', '10', '--T', '250', '--F', '10', '--nepochs', '2000', '--mu1', '0.021544', '--mu2', '0.031623', '--mu3', '0', '--lr', '0.001', '--joblog', 'output/logs/results_lorenz_T_200_seed_618.npz_output.npz', '--inputfile', 'my_dataset/lorenz96/results_lorenz_T_200_seed_618.npz']' returned non-zero exit status 1.\n",
      "Processing file: results_lorenz_T_200_seed_671.npz\n"
     ]
    },
    {
     "name": "stderr",
     "output_type": "stream",
     "text": [
      "Traceback (most recent call last):\n",
      "  File \"main.py\", line 288, in <module>\n",
      "    trainVerboseLvl)\n",
      "  File \"/root/autodl-tmp/SRU_for_GCI/models/sru.py\", line 189, in trainSRU\n",
      "    model.forward(trainingData[:,tt])\n",
      "IndexError: index 54 is out of bounds for dimension 1 with size 5\n"
     ]
    },
    {
     "name": "stdout",
     "output_type": "stream",
     "text": [
      "Computational Resource: cpu\n",
      "node = 0\n",
      "1041\n",
      "Error processing results_lorenz_T_200_seed_671.npz: Command '['python', 'main.py', '--dataset', 'lorenz', '--dsid', '1', '--model', 'sru', '--sruname', '10', '--T', '250', '--F', '10', '--nepochs', '2000', '--mu1', '0.021544', '--mu2', '0.031623', '--mu3', '0', '--lr', '0.001', '--joblog', 'output/logs/results_lorenz_T_200_seed_671.npz_output.npz', '--inputfile', 'my_dataset/lorenz96/results_lorenz_T_200_seed_671.npz']' returned non-zero exit status 1.\n",
      "Processing file: results_lorenz_T_200_seed_981.npz\n"
     ]
    },
    {
     "name": "stderr",
     "output_type": "stream",
     "text": [
      "Traceback (most recent call last):\n",
      "  File \"main.py\", line 288, in <module>\n",
      "    trainVerboseLvl)\n",
      "  File \"/root/autodl-tmp/SRU_for_GCI/models/sru.py\", line 189, in trainSRU\n",
      "    model.forward(trainingData[:,tt])\n",
      "IndexError: index 54 is out of bounds for dimension 1 with size 5\n"
     ]
    },
    {
     "name": "stdout",
     "output_type": "stream",
     "text": [
      "Computational Resource: cpu\n",
      "node = 0\n",
      "1041\n",
      "Error processing results_lorenz_T_200_seed_981.npz: Command '['python', 'main.py', '--dataset', 'lorenz', '--dsid', '1', '--model', 'sru', '--sruname', '10', '--T', '250', '--F', '10', '--nepochs', '2000', '--mu1', '0.021544', '--mu2', '0.031623', '--mu3', '0', '--lr', '0.001', '--joblog', 'output/logs/results_lorenz_T_200_seed_981.npz_output.npz', '--inputfile', 'my_dataset/lorenz96/results_lorenz_T_200_seed_981.npz']' returned non-zero exit status 1.\n",
      "Processing file: results_lorenz_T_500_seed_169.npz\n"
     ]
    },
    {
     "name": "stderr",
     "output_type": "stream",
     "text": [
      "Traceback (most recent call last):\n",
      "  File \"main.py\", line 288, in <module>\n",
      "    trainVerboseLvl)\n",
      "  File \"/root/autodl-tmp/SRU_for_GCI/models/sru.py\", line 189, in trainSRU\n",
      "    model.forward(trainingData[:,tt])\n",
      "IndexError: index 54 is out of bounds for dimension 1 with size 5\n"
     ]
    },
    {
     "name": "stdout",
     "output_type": "stream",
     "text": [
      "Computational Resource: cpu\n",
      "node = 0\n",
      "1041\n",
      "Error processing results_lorenz_T_500_seed_169.npz: Command '['python', 'main.py', '--dataset', 'lorenz', '--dsid', '1', '--model', 'sru', '--sruname', '10', '--T', '250', '--F', '10', '--nepochs', '2000', '--mu1', '0.021544', '--mu2', '0.031623', '--mu3', '0', '--lr', '0.001', '--joblog', 'output/logs/results_lorenz_T_500_seed_169.npz_output.npz', '--inputfile', 'my_dataset/lorenz96/results_lorenz_T_500_seed_169.npz']' returned non-zero exit status 1.\n",
      "Processing file: results_lorenz_T_500_seed_381.npz\n"
     ]
    },
    {
     "name": "stderr",
     "output_type": "stream",
     "text": [
      "Traceback (most recent call last):\n",
      "  File \"main.py\", line 288, in <module>\n",
      "    trainVerboseLvl)\n",
      "  File \"/root/autodl-tmp/SRU_for_GCI/models/sru.py\", line 189, in trainSRU\n",
      "    model.forward(trainingData[:,tt])\n",
      "IndexError: index 54 is out of bounds for dimension 1 with size 5\n"
     ]
    },
    {
     "name": "stdout",
     "output_type": "stream",
     "text": [
      "Computational Resource: cpu\n",
      "node = 0\n",
      "1041\n",
      "Error processing results_lorenz_T_500_seed_381.npz: Command '['python', 'main.py', '--dataset', 'lorenz', '--dsid', '1', '--model', 'sru', '--sruname', '10', '--T', '250', '--F', '10', '--nepochs', '2000', '--mu1', '0.021544', '--mu2', '0.031623', '--mu3', '0', '--lr', '0.001', '--joblog', 'output/logs/results_lorenz_T_500_seed_381.npz_output.npz', '--inputfile', 'my_dataset/lorenz96/results_lorenz_T_500_seed_381.npz']' returned non-zero exit status 1.\n",
      "Processing file: results_lorenz_T_500_seed_584.npz\n"
     ]
    },
    {
     "name": "stderr",
     "output_type": "stream",
     "text": [
      "Traceback (most recent call last):\n",
      "  File \"main.py\", line 288, in <module>\n",
      "    trainVerboseLvl)\n",
      "  File \"/root/autodl-tmp/SRU_for_GCI/models/sru.py\", line 189, in trainSRU\n",
      "    model.forward(trainingData[:,tt])\n",
      "IndexError: index 54 is out of bounds for dimension 1 with size 5\n"
     ]
    },
    {
     "name": "stdout",
     "output_type": "stream",
     "text": [
      "Computational Resource: cpu\n",
      "node = 0\n",
      "1041\n",
      "Error processing results_lorenz_T_500_seed_584.npz: Command '['python', 'main.py', '--dataset', 'lorenz', '--dsid', '1', '--model', 'sru', '--sruname', '10', '--T', '250', '--F', '10', '--nepochs', '2000', '--mu1', '0.021544', '--mu2', '0.031623', '--mu3', '0', '--lr', '0.001', '--joblog', 'output/logs/results_lorenz_T_500_seed_584.npz_output.npz', '--inputfile', 'my_dataset/lorenz96/results_lorenz_T_500_seed_584.npz']' returned non-zero exit status 1.\n",
      "Processing file: results_lorenz_T_500_seed_594.npz\n"
     ]
    },
    {
     "name": "stderr",
     "output_type": "stream",
     "text": [
      "Traceback (most recent call last):\n",
      "  File \"main.py\", line 288, in <module>\n",
      "    trainVerboseLvl)\n",
      "  File \"/root/autodl-tmp/SRU_for_GCI/models/sru.py\", line 189, in trainSRU\n",
      "    model.forward(trainingData[:,tt])\n",
      "IndexError: index 54 is out of bounds for dimension 1 with size 5\n"
     ]
    },
    {
     "name": "stdout",
     "output_type": "stream",
     "text": [
      "Computational Resource: cpu\n",
      "node = 0\n",
      "1041\n",
      "Error processing results_lorenz_T_500_seed_594.npz: Command '['python', 'main.py', '--dataset', 'lorenz', '--dsid', '1', '--model', 'sru', '--sruname', '10', '--T', '250', '--F', '10', '--nepochs', '2000', '--mu1', '0.021544', '--mu2', '0.031623', '--mu3', '0', '--lr', '0.001', '--joblog', 'output/logs/results_lorenz_T_500_seed_594.npz_output.npz', '--inputfile', 'my_dataset/lorenz96/results_lorenz_T_500_seed_594.npz']' returned non-zero exit status 1.\n",
      "Processing file: results_lorenz_T_500_seed_618.npz\n"
     ]
    },
    {
     "name": "stderr",
     "output_type": "stream",
     "text": [
      "Traceback (most recent call last):\n",
      "  File \"main.py\", line 288, in <module>\n",
      "    trainVerboseLvl)\n",
      "  File \"/root/autodl-tmp/SRU_for_GCI/models/sru.py\", line 189, in trainSRU\n",
      "    model.forward(trainingData[:,tt])\n",
      "IndexError: index 54 is out of bounds for dimension 1 with size 5\n"
     ]
    },
    {
     "name": "stdout",
     "output_type": "stream",
     "text": [
      "Computational Resource: cpu\n",
      "node = 0\n",
      "1041\n",
      "Error processing results_lorenz_T_500_seed_618.npz: Command '['python', 'main.py', '--dataset', 'lorenz', '--dsid', '1', '--model', 'sru', '--sruname', '10', '--T', '250', '--F', '10', '--nepochs', '2000', '--mu1', '0.021544', '--mu2', '0.031623', '--mu3', '0', '--lr', '0.001', '--joblog', 'output/logs/results_lorenz_T_500_seed_618.npz_output.npz', '--inputfile', 'my_dataset/lorenz96/results_lorenz_T_500_seed_618.npz']' returned non-zero exit status 1.\n",
      "Processing file: results_lorenz_T_500_seed_671.npz\n"
     ]
    },
    {
     "name": "stderr",
     "output_type": "stream",
     "text": [
      "Traceback (most recent call last):\n",
      "  File \"main.py\", line 288, in <module>\n",
      "    trainVerboseLvl)\n",
      "  File \"/root/autodl-tmp/SRU_for_GCI/models/sru.py\", line 189, in trainSRU\n",
      "    model.forward(trainingData[:,tt])\n",
      "IndexError: index 54 is out of bounds for dimension 1 with size 5\n"
     ]
    },
    {
     "name": "stdout",
     "output_type": "stream",
     "text": [
      "Computational Resource: cpu\n",
      "node = 0\n",
      "1041\n",
      "Error processing results_lorenz_T_500_seed_671.npz: Command '['python', 'main.py', '--dataset', 'lorenz', '--dsid', '1', '--model', 'sru', '--sruname', '10', '--T', '250', '--F', '10', '--nepochs', '2000', '--mu1', '0.021544', '--mu2', '0.031623', '--mu3', '0', '--lr', '0.001', '--joblog', 'output/logs/results_lorenz_T_500_seed_671.npz_output.npz', '--inputfile', 'my_dataset/lorenz96/results_lorenz_T_500_seed_671.npz']' returned non-zero exit status 1.\n",
      "Processing file: results_lorenz_T_500_seed_981.npz\n"
     ]
    },
    {
     "name": "stderr",
     "output_type": "stream",
     "text": [
      "Traceback (most recent call last):\n",
      "  File \"main.py\", line 288, in <module>\n",
      "    trainVerboseLvl)\n",
      "  File \"/root/autodl-tmp/SRU_for_GCI/models/sru.py\", line 189, in trainSRU\n",
      "    model.forward(trainingData[:,tt])\n",
      "IndexError: index 54 is out of bounds for dimension 1 with size 5\n"
     ]
    },
    {
     "name": "stdout",
     "output_type": "stream",
     "text": [
      "Computational Resource: cpu\n",
      "node = 0\n",
      "1041\n",
      "Error processing results_lorenz_T_500_seed_981.npz: Command '['python', 'main.py', '--dataset', 'lorenz', '--dsid', '1', '--model', 'sru', '--sruname', '10', '--T', '250', '--F', '10', '--nepochs', '2000', '--mu1', '0.021544', '--mu2', '0.031623', '--mu3', '0', '--lr', '0.001', '--joblog', 'output/logs/results_lorenz_T_500_seed_981.npz_output.npz', '--inputfile', 'my_dataset/lorenz96/results_lorenz_T_500_seed_981.npz']' returned non-zero exit status 1.\n",
      "\n",
      "All AUROC Results:\n"
     ]
    },
    {
     "name": "stderr",
     "output_type": "stream",
     "text": [
      "Traceback (most recent call last):\n",
      "  File \"main.py\", line 288, in <module>\n",
      "    trainVerboseLvl)\n",
      "  File \"/root/autodl-tmp/SRU_for_GCI/models/sru.py\", line 189, in trainSRU\n",
      "    model.forward(trainingData[:,tt])\n",
      "IndexError: index 54 is out of bounds for dimension 1 with size 5\n"
     ]
    }
   ],
   "source": [
    "import os\n",
    "import subprocess\n",
    "\n",
    "import numpy as np\n",
    "import torch\n",
    "from sklearn.metrics import roc_auc_score\n",
    "\n",
    "# 设定路径\n",
    "dataset_dir = \"my_dataset/lorenz96\"  # 存储lorenz数据的文件夹\n",
    "output_dir = \"output/logs\"  # 存储输出日志的目录\n",
    "\n",
    "# 获取所有的npz文件\n",
    "npz_files = [f for f in os.listdir(dataset_dir) if f.endswith('.npz')]\n",
    "\n",
    "# 准备AUROC结果存储\n",
    "auroc_results = []\n",
    "\n",
    "# 遍历每个文件，执行main.py，计算AUROC\n",
    "for npz_file in npz_files:\n",
    "    print(f\"Processing file: {npz_file}\")\n",
    "\n",
    "    # 数据文件路径\n",
    "    npz_file_path = dataset_dir + \"/\"+npz_file\n",
    "\n",
    "    # 构建命令行参数\n",
    "    command = [\n",
    "        \"python\", \"main.py\",\n",
    "        \"--dataset\", \"lorenz\",\n",
    "        \"--dsid\", \"1\",  # 这里使用1，假设每个数据集有一个dsid\n",
    "        \"--model\", \"sru\",\n",
    "        \"--sruname\", \"10\",  # 设置为10，按照要求\n",
    "        \"--T\", \"250\",  # 设置时间步数\n",
    "        \"--F\", \"10\",  # 设置F\n",
    "        \"--nepochs\", \"2000\",  # 训练2000个epoch\n",
    "        \"--mu1\", \"0.021544\",  # mu1的值\n",
    "        \"--mu2\", \"0.031623\",  # mu2的值\n",
    "        \"--mu3\", \"0\",  # mu3的值\n",
    "        \"--lr\", \"0.001\",  # 学习率\n",
    "        \"--joblog\", os.path.join(output_dir, f\"{npz_file}_output.npz\"),  # 输出路径\n",
    "        \"--inputfile\", npz_file_path  # 传递数据文件路径\n",
    "    ]\n",
    "\n",
    "    # 执行命令\n",
    "    try:\n",
    "        subprocess.run(command, check=True)\n",
    "    except subprocess.CalledProcessError as e:\n",
    "        print(f\"Error processing {npz_file}: {e}\")\n",
    "        continue\n",
    "\n",
    "    # 输出文件路径（假设每个文件的结果都保存在对应joblog输出路径）\n",
    "    output_file_path = os.path.join(output_dir, f\"{npz_file}_output.npz\")\n",
    "\n",
    "    # 读取输出的结果文件（假设它包含了Gest和Gref）\n",
    "    try:\n",
    "        result = np.load(output_file_path)\n",
    "        Gest = torch.tensor(result[\"Gest\"])  # 预测值\n",
    "        Gref = torch.tensor(result[\"Gref\"])  # 真实值\n",
    "\n",
    "        # 计算 AUROC\n",
    "        # 假设Gest和Gref都是每个节点的预测和真实值\n",
    "        # 如果你有多个节点，计算每个节点的AUROC并取平均\n",
    "        auroc_values = []\n",
    "        for i in range(Gest.shape[0]):  # 遍历每个节点\n",
    "            try:\n",
    "                auroc = roc_auc_score(Gref[i].cpu().numpy(), Gest[i].cpu().numpy())\n",
    "                auroc_values.append(auroc)\n",
    "            except ValueError as ve:\n",
    "                print(f\"Error computing AUROC for node {i}: {ve}\")\n",
    "                auroc_values.append(np.nan)\n",
    "\n",
    "        # 计算该文件的平均AUROC值\n",
    "        avg_auroc = np.nanmean(auroc_values)\n",
    "        auroc_results.append((npz_file, avg_auroc))\n",
    "        print(f\"AUROC for {npz_file}: {avg_auroc:.4f}\")\n",
    "\n",
    "    except Exception as e:\n",
    "        print(f\"Error reading output file for {npz_file}: {e}\")\n",
    "        continue\n",
    "\n",
    "# 输出所有文件的AUROC结果\n",
    "print(\"\\nAll AUROC Results:\")\n",
    "for file, auroc in auroc_results:\n",
    "    print(f\"{file}: {auroc:.4f}\")\n"
   ],
   "metadata": {
    "collapsed": false,
    "ExecuteTime": {
     "end_time": "2024-11-06T10:12:53.325515Z",
     "start_time": "2024-11-06T10:12:29.201145Z"
    }
   },
   "id": "3aeeaa4d7941823a",
   "execution_count": 21
  },
  {
   "cell_type": "code",
   "outputs": [],
   "source": [
    "import torch\n",
    "\n",
    "torch.cuda.empty_cache()\n"
   ],
   "metadata": {
    "collapsed": false,
    "ExecuteTime": {
     "end_time": "2024-11-06T09:47:37.909495Z",
     "start_time": "2024-11-06T09:47:37.904186Z"
    }
   },
   "id": "9f0e421421aedc52",
   "execution_count": 10
  },
  {
   "cell_type": "code",
   "outputs": [
    {
     "name": "stdout",
     "output_type": "stream",
     "text": [
      "True\n",
      "10.0.130\n",
      "0\n"
     ]
    }
   ],
   "source": [
    "import torch\n",
    "\n",
    "print(torch.cuda.is_available())  # 检查是否能够使用 GPU\n",
    "print(torch.version.cuda)  # 查看当前 CUDA 版本\n",
    "print(torch.cuda.current_device())  # 查看当前设备的 ID\n"
   ],
   "metadata": {
    "collapsed": false,
    "ExecuteTime": {
     "end_time": "2024-11-06T09:47:37.942867Z",
     "start_time": "2024-11-06T09:47:37.934716Z"
    }
   },
   "id": "fc7e0adecdcb3bb2",
   "execution_count": 12
  }
 ],
 "metadata": {
  "kernelspec": {
   "display_name": "Python 3",
   "language": "python",
   "name": "python3"
  },
  "language_info": {
   "codemirror_mode": {
    "name": "ipython",
    "version": 2
   },
   "file_extension": ".py",
   "mimetype": "text/x-python",
   "name": "python",
   "nbconvert_exporter": "python",
   "pygments_lexer": "ipython2",
   "version": "2.7.6"
  }
 },
 "nbformat": 4,
 "nbformat_minor": 5
}
