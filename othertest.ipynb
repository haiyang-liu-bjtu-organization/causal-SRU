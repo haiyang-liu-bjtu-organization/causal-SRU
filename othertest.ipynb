{
 "cells": [
  {
   "cell_type": "code",
   "execution_count": 5,
   "id": "initial_id",
   "metadata": {
    "collapsed": true,
    "ExecuteTime": {
     "end_time": "2024-11-09T03:57:16.581405Z",
     "start_time": "2024-11-09T03:57:16.572851Z"
    }
   },
   "outputs": [
    {
     "name": "stdout",
     "output_type": "stream",
     "text": [
      "output/logs/lorenz-381-F10-200.npz_output.npz\n",
      "output/logs/lorenz-618-F10-200.npz_output.npz\n",
      "output/logs/lorenz-584-F10-200.npz_output.npz\n",
      "output/logs/lorenz-169-F10-200.npz_output.npz\n",
      "output/logs/lorenz-594-F10-200.npz_output.npz\n",
      "output/logs/lorenz-671-F10-200.npz_output.npz\n",
      "output/logs/lorenz-981-F10-200.npz_output.npz\n"
     ]
    }
   ],
   "source": [
    "import os\n",
    "\n",
    "dataset_dir = \"datasets/lorenz/F10/time200\"  # 存储lorenz数据的文件夹\n",
    "\n",
    "output_dir = \"output/logs\"  # 存储输出日志的目录\n",
    "\n",
    "# 获取所有的npz文件\n",
    "npz_files = [f for f in os.listdir(dataset_dir) if f.endswith('.npz')]\n",
    "\n",
    "# 准备AUROC结果存储\n",
    "auroc_results = []\n",
    "\n",
    "# 遍历每个文件，执行main.py，计算AUROC\n",
    "for npz_file in npz_files:\n",
    "    print(output_dir + \"/\" + f\"{npz_file}_output.npz\")"
   ]
  },
  {
   "cell_type": "code",
   "outputs": [],
   "source": [],
   "metadata": {
    "collapsed": false
   },
   "id": "1e1da7bdcae27afb"
  }
 ],
 "metadata": {
  "kernelspec": {
   "display_name": "Python 3",
   "language": "python",
   "name": "python3"
  },
  "language_info": {
   "codemirror_mode": {
    "name": "ipython",
    "version": 2
   },
   "file_extension": ".py",
   "mimetype": "text/x-python",
   "name": "python",
   "nbconvert_exporter": "python",
   "pygments_lexer": "ipython2",
   "version": "2.7.6"
  }
 },
 "nbformat": 4,
 "nbformat_minor": 5
}
