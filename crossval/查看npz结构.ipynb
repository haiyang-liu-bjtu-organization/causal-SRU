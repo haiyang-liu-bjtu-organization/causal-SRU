{
 "cells": [
  {
   "cell_type": "code",
   "outputs": [
    {
     "data": {
      "text/plain": "'/root/autodl-tmp/sru/crossval'"
     },
     "execution_count": 1,
     "metadata": {},
     "output_type": "execute_result"
    }
   ],
   "source": [
    "import os\n",
    "os.getcwd()\n",
    "# 显示当前jupyter启动在哪\n"
   ],
   "metadata": {
    "collapsed": false,
    "ExecuteTime": {
     "end_time": "2024-11-09T02:55:34.073401Z",
     "start_time": "2024-11-09T02:55:34.055814Z"
    }
   },
   "id": "b0de44b64ad6d960",
   "execution_count": 1
  },
  {
   "cell_type": "code",
   "outputs": [
    {
     "name": "stdout",
     "output_type": "stream",
     "text": [
      "数据集中的键： KeysView(<numpy.lib.npyio.NpzFile object at 0x7f12e02ac390>)\n",
      "\n",
      "前几行数据：\n",
      "        0         1         2         3         4         5         6    \\\n",
      "0  4.147790  4.473855  4.526496  4.815949  5.489490  6.295426  7.287539   \n",
      "1  1.050359  2.078638  3.023448  4.403039  5.948887  6.997261  7.714961   \n",
      "2  3.122195  3.775383  4.570014  4.962891  5.032054  4.161672  2.118348   \n",
      "3  9.681697  8.630443  7.131571  5.248274  3.319275  1.268018  0.239940   \n",
      "4 -5.057631 -5.625764 -4.891471 -4.280236 -3.875794 -3.577143 -2.763786   \n",
      "\n",
      "        7         8         9    ...       240       241       242        243  \\\n",
      "0  7.287855  6.360668  5.876004  ...  0.797913  4.304864  7.697928  10.646504   \n",
      "1  8.356059  8.667260  8.250864  ...  3.226313  3.834419  4.820829   5.684799   \n",
      "2 -0.412169 -2.351106 -3.279630  ...  8.918077  9.348000  8.489878   6.126480   \n",
      "3  0.228543  1.536290  3.284411  ...  5.219397  3.251837  0.774210  -1.139419   \n",
      "4 -2.404065 -1.681647 -0.727215  ... -0.389590 -1.913219 -2.045330  -1.369826   \n",
      "\n",
      "         244        245        246        247        248        249  \n",
      "0  12.942914  14.238026  14.685837  14.582759  14.414373  14.310568  \n",
      "1   5.173939   3.421196   0.706476  -1.221497  -1.641756  -0.276346  \n",
      "2   2.610880  -0.333615  -1.506561  -0.596328   0.961770   1.982327  \n",
      "3  -2.162575  -1.909425  -1.267282  -0.689342  -0.176294   0.648634  \n",
      "4  -0.438040  -0.040887   0.386182   0.645779   1.202116   1.363068  \n",
      "\n",
      "[5 rows x 250 columns]\n"
     ]
    }
   ],
   "source": [
    "import numpy as np\n",
    "import pandas as pd\n",
    "\n",
    "# 载入 npz 文件\n",
    "data = np.load('../data/lorenz96/F_10_T_250_dataset_0.npz')  # 替换为你的实际文件路径\n",
    "\n",
    "# 打印 npz 文件中的键（即不同的数组）\n",
    "print(\"数据集中的键：\", data.keys())\n",
    "\n",
    "# 获取第一个数组的数据\n",
    "array_name = list(data.keys())[0]  # 获取第一个数组的名称\n",
    "array_data = data[array_name]  # 获取该数组的数据\n",
    "\n",
    "# 如果数组是结构化数组，使用列名，如果不是，则使用默认的数字列名\n",
    "if array_data.ndim == 1:  # 如果是一维数组\n",
    "    df = pd.DataFrame(array_data, columns=[array_name])  # 用数组的名字作为列名\n",
    "else:\n",
    "    df = pd.DataFrame(array_data)  # 假设是二维数组，直接转换为DataFrame\n",
    "\n",
    "# 打印前几行数据\n",
    "print(\"\\n前几行数据：\")\n",
    "print(df.head())  # 展示DataFrame的前五行\n"
   ],
   "metadata": {
    "collapsed": true,
    "ExecuteTime": {
     "end_time": "2024-11-06T12:20:42.601694Z",
     "start_time": "2024-11-06T12:20:42.177219Z"
    }
   },
   "id": "initial_id",
   "execution_count": 1
  },
  {
   "cell_type": "code",
   "outputs": [
    {
     "name": "stdout",
     "output_type": "stream",
     "text": [
      "['X_np', 'Gref', 'n', 'T', 'F', 'delta_t', 'sd', 'burn_in', 'seed']\n",
      "['X_np', 'Gref', 'n', 'T', 'F', 'sparsity', 'var_lag', 'sd', 'beta_value', 'seed']\n"
     ]
    }
   ],
   "source": [
    "import numpy as np\n",
    "\n",
    "# 加载 .npz 文件， 路径是相对于本层的，而不是相对于项目的\n",
    "data = np.load('../data/lorenz96/F_10_T_250_dataset_0.npz')\n",
    "data_var = np.load('../data/var/S_30_T_500_dataset_0.npz')\n",
    "\n",
    "# 查看所有数组的名称\n",
    "print(data.files)\n",
    "print(data_var.files)\n"
   ],
   "metadata": {
    "collapsed": false,
    "ExecuteTime": {
     "end_time": "2024-11-06T12:20:42.872382Z",
     "start_time": "2024-11-06T12:20:42.614828Z"
    }
   },
   "id": "a508c62bfb7e5edc",
   "execution_count": 3
  },
  {
   "cell_type": "code",
   "outputs": [
    {
     "name": "stdout",
     "output_type": "stream",
     "text": [
      "['X', 'GC', 'seed']\n"
     ]
    }
   ],
   "source": [
    "import numpy as np\n",
    "\n",
    "# 加载 .npz 文件， 路径是相对于本层的，而不是相对于项目的\n",
    "data = np.load('../datasets/lorenz/F10/time200/lorenz-169-F10-200.npz')\n",
    "\n",
    "# 查看所有数组的名称\n",
    "print(data.files)\n"
   ],
   "metadata": {
    "collapsed": false,
    "ExecuteTime": {
     "end_time": "2024-11-06T12:20:42.885996Z",
     "start_time": "2024-11-06T12:20:42.877298Z"
    }
   },
   "id": "42a0f32f5fd67e1d",
   "execution_count": 4
  },
  {
   "cell_type": "code",
   "outputs": [
    {
     "name": "stdout",
     "output_type": "stream",
     "text": [
      "['X_np', 'Gref', 'n', 'T', 'F', 'delta_t', 'sd', 'burn_in', 'seed']\n"
     ]
    }
   ],
   "source": [
    "import numpy as np\n",
    "\n",
    "# 加载 .npz 文件， 路径是相对于本层的，而不是相对于项目的\n",
    "data = np.load('../my_dataset/lorenz96/results_lorenz_T_200_seed_169.npz')\n",
    "\n",
    "# 查看所有数组的名称\n",
    "print(data.files)\n"
   ],
   "metadata": {
    "collapsed": false,
    "ExecuteTime": {
     "end_time": "2024-11-06T12:20:42.897564Z",
     "start_time": "2024-11-06T12:20:42.889297Z"
    }
   },
   "id": "e04a5de33561448e",
   "execution_count": 5
  },
  {
   "cell_type": "code",
   "outputs": [
    {
     "name": "stdout",
     "output_type": "stream",
     "text": [
      "文件内容： ['X_np.npy', 'Gref.npy', 'n.npy', 'T.npy', 'F.npy', 'delta_t.npy', 'sd.npy', 'burn_in.npy', 'seed.npy']\n",
      "\n",
      "文件: X_np.npy\n",
      "数组的形状: (10, 250)\n",
      "数组的元素个数: 2500\n",
      "数组的内存大小（字节）: 20000\n"
     ]
    }
   ],
   "source": [
    "import zipfile\n",
    "import numpy as np\n",
    "\n",
    "# 打开 .npz 文件作为 ZIP 文件\n",
    "with zipfile.ZipFile('../data/lorenz96/F_10_T_250_dataset_0.npz', 'r') as zip_ref:\n",
    "    # 列出文件中的所有文件名\n",
    "    print(\"文件内容：\", zip_ref.namelist())\n",
    "\n",
    "    # 解压每个文件并读取它们\n",
    "    for file_name in zip_ref.namelist():\n",
    "        # 只处理 X.npy 文件\n",
    "        if 'X_np.npy' in file_name:\n",
    "            with zip_ref.open(file_name) as f:\n",
    "                # 读取并加载 X.npy 文件中的数据\n",
    "                array_data = np.load(f)\n",
    "                \n",
    "                # 查看文件的大小\n",
    "                print(f\"\\n文件: {file_name}\")\n",
    "                print(\"数组的形状:\", array_data.shape)  # 输出数组的形状\n",
    "                print(\"数组的元素个数:\", array_data.size)  # 输出数组的总元素数\n",
    "                print(\"数组的内存大小（字节）:\", array_data.nbytes)  # 输出数组的内存占用大小\n"
   ],
   "metadata": {
    "collapsed": false,
    "ExecuteTime": {
     "end_time": "2024-11-08T08:13:12.801155Z",
     "start_time": "2024-11-08T08:13:12.779366Z"
    }
   },
   "id": "1c997c06656d99eb",
   "execution_count": 2
  },
  {
   "cell_type": "code",
   "outputs": [
    {
     "name": "stdout",
     "output_type": "stream",
     "text": [
      "文件内容： ['X.npy', 'GC.npy', 'seed.npy']\n",
      "\n",
      "文件: X.npy\n",
      "数组的形状: (200, 10)\n",
      "数组的元素个数: 2000\n",
      "数组的内存大小（字节）: 16000\n"
     ]
    }
   ],
   "source": [
    "import zipfile\n",
    "import numpy as np\n",
    "\n",
    "# 打开 .npz 文件作为 ZIP 文件\n",
    "with zipfile.ZipFile('../datasets/lorenz/F10/time200/lorenz-169-F10-200.npz', 'r') as zip_ref:\n",
    "    # 列出文件中的所有文件名\n",
    "    print(\"文件内容：\", zip_ref.namelist())\n",
    "\n",
    "    # 解压每个文件并读取它们\n",
    "    for file_name in zip_ref.namelist():\n",
    "        # 只处理 X.npy 文件\n",
    "        if 'X.npy' in file_name:\n",
    "            with zip_ref.open(file_name) as f:\n",
    "                # 读取并加载 X.npy 文件中的数据\n",
    "                array_data = np.load(f)\n",
    "                \n",
    "                # 查看文件的大小\n",
    "                print(f\"\\n文件: {file_name}\")\n",
    "                print(\"数组的形状:\", array_data.shape)  # 输出数组的形状\n",
    "                print(\"数组的元素个数:\", array_data.size)  # 输出数组的总元素数\n",
    "                print(\"数组的内存大小（字节）:\", array_data.nbytes)  # 输出数组的内存占用大小\n"
   ],
   "metadata": {
    "collapsed": false,
    "ExecuteTime": {
     "end_time": "2024-11-08T08:13:49.052655Z",
     "start_time": "2024-11-08T08:13:49.030984Z"
    }
   },
   "id": "cad1b82e456a0c7b",
   "execution_count": 3
  },
  {
   "cell_type": "code",
   "outputs": [],
   "source": [],
   "metadata": {
    "collapsed": false
   },
   "id": "28c6a5331a8f2cc"
  }
 ],
 "metadata": {
  "kernelspec": {
   "display_name": "Python 3",
   "language": "python",
   "name": "python3"
  },
  "language_info": {
   "codemirror_mode": {
    "name": "ipython",
    "version": 2
   },
   "file_extension": ".py",
   "mimetype": "text/x-python",
   "name": "python",
   "nbconvert_exporter": "python",
   "pygments_lexer": "ipython2",
   "version": "2.7.6"
  }
 },
 "nbformat": 4,
 "nbformat_minor": 5
}
