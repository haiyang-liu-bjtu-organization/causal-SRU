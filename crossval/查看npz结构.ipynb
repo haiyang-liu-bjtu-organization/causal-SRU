{
 "cells": [
  {
   "cell_type": "code",
   "execution_count": 3,
   "id": "initial_id",
   "metadata": {
    "collapsed": true,
    "ExecuteTime": {
     "end_time": "2024-11-04T14:16:45.439225Z",
     "start_time": "2024-11-04T14:16:45.433122Z"
    }
   },
   "outputs": [
    {
     "name": "stdout",
     "output_type": "stream",
     "text": [
      "['Gref', 'Gest', 'model', 'dataset', 'dsid', 'T', 'F', 'nepochs', 'mu1', 'mu2', 'mu3', 'lr', 'batchSize', 'blk_size', 'numBatches', 'dim_iid_stats', 'dim_rec_stats', 'dim_final_stats', 'dim_rec_stats_feedback']\n"
     ]
    }
   ],
   "source": [
    "import numpy as np\n",
    "\n",
    "# 加载 .npz 文件， 路径是相对于本层的，而不是相对于项目的\n",
    "data = np.load('logs/test.npz')\n",
    "\n",
    "# 查看所有数组的名称\n",
    "print(data.files)\n",
    "\n",
    "# 查看特定数组的内容\n",
    "# for file_name in data.files:\n",
    "#     print(f\"{file_name}: {data[file_name]}\")\n"
   ]
  },
  {
   "cell_type": "code",
   "outputs": [
    {
     "data": {
      "text/plain": "'/root/autodl-tmp/sru/crossval'"
     },
     "execution_count": 4,
     "metadata": {},
     "output_type": "execute_result"
    }
   ],
   "source": [
    "import os\n",
    "os.getcwd()\n"
   ],
   "metadata": {
    "collapsed": false,
    "ExecuteTime": {
     "end_time": "2024-11-04T14:16:45.445527Z",
     "start_time": "2024-11-04T14:16:45.441164Z"
    }
   },
   "id": "b0de44b64ad6d960",
   "execution_count": 4
  },
  {
   "cell_type": "code",
   "outputs": [],
   "source": [],
   "metadata": {
    "collapsed": false,
    "ExecuteTime": {
     "end_time": "2024-11-04T14:16:45.449253Z",
     "start_time": "2024-11-04T14:16:45.446778Z"
    }
   },
   "id": "a508c62bfb7e5edc",
   "execution_count": 4
  }
 ],
 "metadata": {
  "kernelspec": {
   "display_name": "Python 3",
   "language": "python",
   "name": "python3"
  },
  "language_info": {
   "codemirror_mode": {
    "name": "ipython",
    "version": 2
   },
   "file_extension": ".py",
   "mimetype": "text/x-python",
   "name": "python",
   "nbconvert_exporter": "python",
   "pygments_lexer": "ipython2",
   "version": "2.7.6"
  }
 },
 "nbformat": 4,
 "nbformat_minor": 5
}
